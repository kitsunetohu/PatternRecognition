{
 "cells": [
  {
   "cell_type": "markdown",
   "metadata": {},
   "source": [
    "# 2019年度　パターン認識最終課題\n",
    "\n",
    "パターン認識最終課題では、銀行の顧客に関するデータセットを使って、顧客の婚姻状況を予測するモデルを構築してもらいます。"
   ]
  },
  {
   "cell_type": "markdown",
   "metadata": {},
   "source": [
    "学籍番号と氏名を記入してください。\n記入例：1811000 先端　太郎"
   ]
  },
  {
   "cell_type": "markdown",
   "metadata": {},
   "source": [
    "1911311 CONGXI"
   ]
  },
  {
   "cell_type": "markdown",
   "metadata": {},
   "source": [
    "## 課題１: 色々なモデルを試してみよう！\n",
    "まずは、講義で扱った様々な識別器を試してみましょう。\n",
    "以下に示すロジスティック回帰の例を参考に、指示に従いSVM、K-近傍法、決定木、ランダムフォレストの実装を行ってもらいます。"
   ]
  },
  {
   "cell_type": "code",
   "execution_count": 1,
   "metadata": {
    "trusted": true
   },
   "outputs": [],
   "source": [
    "from IPython.display import display\n",
    "import pandas as pd\n",
    "from pandas import DataFrame, Series\n",
    "import pickle\n",
    "from sklearn.preprocessing import LabelEncoder\n",
    "from sklearn.preprocessing import MinMaxScaler\n",
    "from sklearn.model_selection import train_test_split\n",
    "from sklearn.linear_model import LogisticRegression\n",
    "from sklearn.svm import SVC\n",
    "from sklearn.neighbors import KNeighborsClassifier\n",
    "from sklearn.tree import DecisionTreeClassifier\n",
    "from sklearn.ensemble import RandomForestClassifier\n",
    "from sklearn.metrics import accuracy_score\n",
    "import warnings\n",
    "warnings.filterwarnings('ignore')"
   ]
  },
  {
   "cell_type": "markdown",
   "metadata": {},
   "source": [
    "### Step1 データの読み込み\n",
    "まずは、データを読み込みます。"
   ]
  },
  {
   "cell_type": "code",
   "execution_count": 2,
   "metadata": {
    "trusted": true
   },
   "outputs": [
    {
     "ename": "FileNotFoundError",
     "evalue": "[Errno 2] File b'train.csv' does not exist: b'train.csv'",
     "traceback": [
      "\u001b[1;31m---------------------------------------------------------------------------\u001b[0m",
      "\u001b[1;31mFileNotFoundError\u001b[0m                         Traceback (most recent call last)",
      "\u001b[1;32m<ipython-input-2-9bba0d32ad8d>\u001b[0m in \u001b[0;36m<module>\u001b[1;34m\u001b[0m\n\u001b[1;32m----> 1\u001b[1;33m \u001b[0mdf_train_data\u001b[0m \u001b[1;33m=\u001b[0m \u001b[0mpd\u001b[0m\u001b[1;33m.\u001b[0m\u001b[0mread_csv\u001b[0m\u001b[1;33m(\u001b[0m\u001b[1;34m'train.csv'\u001b[0m\u001b[1;33m)\u001b[0m\u001b[1;33m\u001b[0m\u001b[1;33m\u001b[0m\u001b[0m\n\u001b[0m",
      "\u001b[1;32m~\\Anaconda3\\envs\\partenHW\\lib\\site-packages\\pandas\\io\\parsers.py\u001b[0m in \u001b[0;36mparser_f\u001b[1;34m(filepath_or_buffer, sep, delimiter, header, names, index_col, usecols, squeeze, prefix, mangle_dupe_cols, dtype, engine, converters, true_values, false_values, skipinitialspace, skiprows, skipfooter, nrows, na_values, keep_default_na, na_filter, verbose, skip_blank_lines, parse_dates, infer_datetime_format, keep_date_col, date_parser, dayfirst, iterator, chunksize, compression, thousands, decimal, lineterminator, quotechar, quoting, doublequote, escapechar, comment, encoding, dialect, tupleize_cols, error_bad_lines, warn_bad_lines, delim_whitespace, low_memory, memory_map, float_precision)\u001b[0m\n\u001b[0;32m    700\u001b[0m                     skip_blank_lines=skip_blank_lines)\n\u001b[0;32m    701\u001b[0m \u001b[1;33m\u001b[0m\u001b[0m\n\u001b[1;32m--> 702\u001b[1;33m         \u001b[1;32mreturn\u001b[0m \u001b[0m_read\u001b[0m\u001b[1;33m(\u001b[0m\u001b[0mfilepath_or_buffer\u001b[0m\u001b[1;33m,\u001b[0m \u001b[0mkwds\u001b[0m\u001b[1;33m)\u001b[0m\u001b[1;33m\u001b[0m\u001b[1;33m\u001b[0m\u001b[0m\n\u001b[0m\u001b[0;32m    703\u001b[0m \u001b[1;33m\u001b[0m\u001b[0m\n\u001b[0;32m    704\u001b[0m     \u001b[0mparser_f\u001b[0m\u001b[1;33m.\u001b[0m\u001b[0m__name__\u001b[0m \u001b[1;33m=\u001b[0m \u001b[0mname\u001b[0m\u001b[1;33m\u001b[0m\u001b[1;33m\u001b[0m\u001b[0m\n",
      "\u001b[1;32m~\\Anaconda3\\envs\\partenHW\\lib\\site-packages\\pandas\\io\\parsers.py\u001b[0m in \u001b[0;36m_read\u001b[1;34m(filepath_or_buffer, kwds)\u001b[0m\n\u001b[0;32m    427\u001b[0m \u001b[1;33m\u001b[0m\u001b[0m\n\u001b[0;32m    428\u001b[0m     \u001b[1;31m# Create the parser.\u001b[0m\u001b[1;33m\u001b[0m\u001b[1;33m\u001b[0m\u001b[1;33m\u001b[0m\u001b[0m\n\u001b[1;32m--> 429\u001b[1;33m     \u001b[0mparser\u001b[0m \u001b[1;33m=\u001b[0m \u001b[0mTextFileReader\u001b[0m\u001b[1;33m(\u001b[0m\u001b[0mfilepath_or_buffer\u001b[0m\u001b[1;33m,\u001b[0m \u001b[1;33m**\u001b[0m\u001b[0mkwds\u001b[0m\u001b[1;33m)\u001b[0m\u001b[1;33m\u001b[0m\u001b[1;33m\u001b[0m\u001b[0m\n\u001b[0m\u001b[0;32m    430\u001b[0m \u001b[1;33m\u001b[0m\u001b[0m\n\u001b[0;32m    431\u001b[0m     \u001b[1;32mif\u001b[0m \u001b[0mchunksize\u001b[0m \u001b[1;32mor\u001b[0m \u001b[0miterator\u001b[0m\u001b[1;33m:\u001b[0m\u001b[1;33m\u001b[0m\u001b[1;33m\u001b[0m\u001b[0m\n",
      "\u001b[1;32m~\\Anaconda3\\envs\\partenHW\\lib\\site-packages\\pandas\\io\\parsers.py\u001b[0m in \u001b[0;36m__init__\u001b[1;34m(self, f, engine, **kwds)\u001b[0m\n\u001b[0;32m    893\u001b[0m             \u001b[0mself\u001b[0m\u001b[1;33m.\u001b[0m\u001b[0moptions\u001b[0m\u001b[1;33m[\u001b[0m\u001b[1;34m'has_index_names'\u001b[0m\u001b[1;33m]\u001b[0m \u001b[1;33m=\u001b[0m \u001b[0mkwds\u001b[0m\u001b[1;33m[\u001b[0m\u001b[1;34m'has_index_names'\u001b[0m\u001b[1;33m]\u001b[0m\u001b[1;33m\u001b[0m\u001b[1;33m\u001b[0m\u001b[0m\n\u001b[0;32m    894\u001b[0m \u001b[1;33m\u001b[0m\u001b[0m\n\u001b[1;32m--> 895\u001b[1;33m         \u001b[0mself\u001b[0m\u001b[1;33m.\u001b[0m\u001b[0m_make_engine\u001b[0m\u001b[1;33m(\u001b[0m\u001b[0mself\u001b[0m\u001b[1;33m.\u001b[0m\u001b[0mengine\u001b[0m\u001b[1;33m)\u001b[0m\u001b[1;33m\u001b[0m\u001b[1;33m\u001b[0m\u001b[0m\n\u001b[0m\u001b[0;32m    896\u001b[0m \u001b[1;33m\u001b[0m\u001b[0m\n\u001b[0;32m    897\u001b[0m     \u001b[1;32mdef\u001b[0m \u001b[0mclose\u001b[0m\u001b[1;33m(\u001b[0m\u001b[0mself\u001b[0m\u001b[1;33m)\u001b[0m\u001b[1;33m:\u001b[0m\u001b[1;33m\u001b[0m\u001b[1;33m\u001b[0m\u001b[0m\n",
      "\u001b[1;32m~\\Anaconda3\\envs\\partenHW\\lib\\site-packages\\pandas\\io\\parsers.py\u001b[0m in \u001b[0;36m_make_engine\u001b[1;34m(self, engine)\u001b[0m\n\u001b[0;32m   1120\u001b[0m     \u001b[1;32mdef\u001b[0m \u001b[0m_make_engine\u001b[0m\u001b[1;33m(\u001b[0m\u001b[0mself\u001b[0m\u001b[1;33m,\u001b[0m \u001b[0mengine\u001b[0m\u001b[1;33m=\u001b[0m\u001b[1;34m'c'\u001b[0m\u001b[1;33m)\u001b[0m\u001b[1;33m:\u001b[0m\u001b[1;33m\u001b[0m\u001b[1;33m\u001b[0m\u001b[0m\n\u001b[0;32m   1121\u001b[0m         \u001b[1;32mif\u001b[0m \u001b[0mengine\u001b[0m \u001b[1;33m==\u001b[0m \u001b[1;34m'c'\u001b[0m\u001b[1;33m:\u001b[0m\u001b[1;33m\u001b[0m\u001b[1;33m\u001b[0m\u001b[0m\n\u001b[1;32m-> 1122\u001b[1;33m             \u001b[0mself\u001b[0m\u001b[1;33m.\u001b[0m\u001b[0m_engine\u001b[0m \u001b[1;33m=\u001b[0m \u001b[0mCParserWrapper\u001b[0m\u001b[1;33m(\u001b[0m\u001b[0mself\u001b[0m\u001b[1;33m.\u001b[0m\u001b[0mf\u001b[0m\u001b[1;33m,\u001b[0m \u001b[1;33m**\u001b[0m\u001b[0mself\u001b[0m\u001b[1;33m.\u001b[0m\u001b[0moptions\u001b[0m\u001b[1;33m)\u001b[0m\u001b[1;33m\u001b[0m\u001b[1;33m\u001b[0m\u001b[0m\n\u001b[0m\u001b[0;32m   1123\u001b[0m         \u001b[1;32melse\u001b[0m\u001b[1;33m:\u001b[0m\u001b[1;33m\u001b[0m\u001b[1;33m\u001b[0m\u001b[0m\n\u001b[0;32m   1124\u001b[0m             \u001b[1;32mif\u001b[0m \u001b[0mengine\u001b[0m \u001b[1;33m==\u001b[0m \u001b[1;34m'python'\u001b[0m\u001b[1;33m:\u001b[0m\u001b[1;33m\u001b[0m\u001b[1;33m\u001b[0m\u001b[0m\n",
      "\u001b[1;32m~\\Anaconda3\\envs\\partenHW\\lib\\site-packages\\pandas\\io\\parsers.py\u001b[0m in \u001b[0;36m__init__\u001b[1;34m(self, src, **kwds)\u001b[0m\n\u001b[0;32m   1851\u001b[0m         \u001b[0mkwds\u001b[0m\u001b[1;33m[\u001b[0m\u001b[1;34m'usecols'\u001b[0m\u001b[1;33m]\u001b[0m \u001b[1;33m=\u001b[0m \u001b[0mself\u001b[0m\u001b[1;33m.\u001b[0m\u001b[0musecols\u001b[0m\u001b[1;33m\u001b[0m\u001b[1;33m\u001b[0m\u001b[0m\n\u001b[0;32m   1852\u001b[0m \u001b[1;33m\u001b[0m\u001b[0m\n\u001b[1;32m-> 1853\u001b[1;33m         \u001b[0mself\u001b[0m\u001b[1;33m.\u001b[0m\u001b[0m_reader\u001b[0m \u001b[1;33m=\u001b[0m \u001b[0mparsers\u001b[0m\u001b[1;33m.\u001b[0m\u001b[0mTextReader\u001b[0m\u001b[1;33m(\u001b[0m\u001b[0msrc\u001b[0m\u001b[1;33m,\u001b[0m \u001b[1;33m**\u001b[0m\u001b[0mkwds\u001b[0m\u001b[1;33m)\u001b[0m\u001b[1;33m\u001b[0m\u001b[1;33m\u001b[0m\u001b[0m\n\u001b[0m\u001b[0;32m   1854\u001b[0m         \u001b[0mself\u001b[0m\u001b[1;33m.\u001b[0m\u001b[0munnamed_cols\u001b[0m \u001b[1;33m=\u001b[0m \u001b[0mself\u001b[0m\u001b[1;33m.\u001b[0m\u001b[0m_reader\u001b[0m\u001b[1;33m.\u001b[0m\u001b[0munnamed_cols\u001b[0m\u001b[1;33m\u001b[0m\u001b[1;33m\u001b[0m\u001b[0m\n\u001b[0;32m   1855\u001b[0m \u001b[1;33m\u001b[0m\u001b[0m\n",
      "\u001b[1;32mpandas/_libs/parsers.pyx\u001b[0m in \u001b[0;36mpandas._libs.parsers.TextReader.__cinit__\u001b[1;34m()\u001b[0m\n",
      "\u001b[1;32mpandas/_libs/parsers.pyx\u001b[0m in \u001b[0;36mpandas._libs.parsers.TextReader._setup_parser_source\u001b[1;34m()\u001b[0m\n",
      "\u001b[1;31mFileNotFoundError\u001b[0m: [Errno 2] File b'train.csv' does not exist: b'train.csv'"
     ],
     "output_type": "error"
    }
   ],
   "source": [
    "df_train_data = pd.read_csv('train.csv')"
   ]
  },
  {
   "cell_type": "code",
   "execution_count": 8,
   "metadata": {
    "scrolled": true,
    "trusted": true
   },
   "outputs": [
    {
     "data": {
      "text/html": [
       "<div>\n<table border=\"1\" class=\"dataframe\">\n  <thead>\n    <tr style=\"text-align: right;\">\n      <th></th>\n      <th>age</th>\n      <th>job</th>\n      <th>marital</th>\n      <th>education</th>\n      <th>default</th>\n      <th>housing</th>\n      <th>loan</th>\n      <th>contact</th>\n      <th>month</th>\n      <th>day_of_week</th>\n      <th>...</th>\n      <th>campaign</th>\n      <th>pdays</th>\n      <th>previous</th>\n      <th>poutcome</th>\n      <th>emp.var.rate</th>\n      <th>cons.price.idx</th>\n      <th>cons.conf.idx</th>\n      <th>euribor3m</th>\n      <th>nr.employed</th>\n      <th>y</th>\n    </tr>\n  </thead>\n  <tbody>\n    <tr>\n      <th>0</th>\n      <td>58</td>\n      <td>housemaid</td>\n      <td>married</td>\n      <td>basic.4y</td>\n      <td>unknown</td>\n      <td>yes</td>\n      <td>no</td>\n      <td>cellular</td>\n      <td>aug</td>\n      <td>mon</td>\n      <td>...</td>\n      <td>2</td>\n      <td>999</td>\n      <td>0</td>\n      <td>nonexistent</td>\n      <td>1.4</td>\n      <td>93.444</td>\n      <td>-36.1</td>\n      <td>4.970</td>\n      <td>5228.1</td>\n      <td>no</td>\n    </tr>\n    <tr>\n      <th>1</th>\n      <td>38</td>\n      <td>technician</td>\n      <td>married</td>\n      <td>professional.course</td>\n      <td>no</td>\n      <td>yes</td>\n      <td>no</td>\n      <td>telephone</td>\n      <td>may</td>\n      <td>tue</td>\n      <td>...</td>\n      <td>1</td>\n      <td>999</td>\n      <td>0</td>\n      <td>nonexistent</td>\n      <td>1.1</td>\n      <td>93.994</td>\n      <td>-36.4</td>\n      <td>4.856</td>\n      <td>5191.0</td>\n      <td>no</td>\n    </tr>\n    <tr>\n      <th>2</th>\n      <td>81</td>\n      <td>retired</td>\n      <td>divorced</td>\n      <td>basic.4y</td>\n      <td>no</td>\n      <td>yes</td>\n      <td>no</td>\n      <td>cellular</td>\n      <td>oct</td>\n      <td>thu</td>\n      <td>...</td>\n      <td>1</td>\n      <td>999</td>\n      <td>1</td>\n      <td>failure</td>\n      <td>-1.1</td>\n      <td>94.601</td>\n      <td>-49.5</td>\n      <td>0.987</td>\n      <td>4963.6</td>\n      <td>no</td>\n    </tr>\n    <tr>\n      <th>3</th>\n      <td>49</td>\n      <td>blue-collar</td>\n      <td>married</td>\n      <td>basic.6y</td>\n      <td>no</td>\n      <td>yes</td>\n      <td>no</td>\n      <td>telephone</td>\n      <td>may</td>\n      <td>fri</td>\n      <td>...</td>\n      <td>2</td>\n      <td>999</td>\n      <td>0</td>\n      <td>nonexistent</td>\n      <td>1.1</td>\n      <td>93.994</td>\n      <td>-36.4</td>\n      <td>4.864</td>\n      <td>5191.0</td>\n      <td>yes</td>\n    </tr>\n    <tr>\n      <th>4</th>\n      <td>38</td>\n      <td>unemployed</td>\n      <td>married</td>\n      <td>basic.4y</td>\n      <td>unknown</td>\n      <td>no</td>\n      <td>no</td>\n      <td>telephone</td>\n      <td>jun</td>\n      <td>thu</td>\n      <td>...</td>\n      <td>1</td>\n      <td>999</td>\n      <td>0</td>\n      <td>nonexistent</td>\n      <td>1.4</td>\n      <td>94.465</td>\n      <td>-41.8</td>\n      <td>4.961</td>\n      <td>5228.1</td>\n      <td>no</td>\n    </tr>\n    <tr>\n      <th>5</th>\n      <td>47</td>\n      <td>admin.</td>\n      <td>single</td>\n      <td>unknown</td>\n      <td>unknown</td>\n      <td>yes</td>\n      <td>no</td>\n      <td>telephone</td>\n      <td>may</td>\n      <td>tue</td>\n      <td>...</td>\n      <td>1</td>\n      <td>999</td>\n      <td>0</td>\n      <td>nonexistent</td>\n      <td>1.1</td>\n      <td>93.994</td>\n      <td>-36.4</td>\n      <td>4.857</td>\n      <td>5191.0</td>\n      <td>no</td>\n    </tr>\n    <tr>\n      <th>6</th>\n      <td>33</td>\n      <td>admin.</td>\n      <td>married</td>\n      <td>university.degree</td>\n      <td>no</td>\n      <td>no</td>\n      <td>yes</td>\n      <td>telephone</td>\n      <td>jun</td>\n      <td>tue</td>\n      <td>...</td>\n      <td>2</td>\n      <td>999</td>\n      <td>0</td>\n      <td>nonexistent</td>\n      <td>1.4</td>\n      <td>94.465</td>\n      <td>-41.8</td>\n      <td>4.961</td>\n      <td>5228.1</td>\n      <td>no</td>\n    </tr>\n    <tr>\n      <th>7</th>\n      <td>31</td>\n      <td>technician</td>\n      <td>single</td>\n      <td>university.degree</td>\n      <td>no</td>\n      <td>yes</td>\n      <td>no</td>\n      <td>cellular</td>\n      <td>jul</td>\n      <td>mon</td>\n      <td>...</td>\n      <td>4</td>\n      <td>999</td>\n      <td>0</td>\n      <td>nonexistent</td>\n      <td>1.4</td>\n      <td>93.918</td>\n      <td>-42.7</td>\n      <td>4.962</td>\n      <td>5228.1</td>\n      <td>no</td>\n    </tr>\n    <tr>\n      <th>8</th>\n      <td>31</td>\n      <td>admin.</td>\n      <td>divorced</td>\n      <td>high.school</td>\n      <td>no</td>\n      <td>no</td>\n      <td>yes</td>\n      <td>cellular</td>\n      <td>jul</td>\n      <td>fri</td>\n      <td>...</td>\n      <td>2</td>\n      <td>999</td>\n      <td>0</td>\n      <td>nonexistent</td>\n      <td>1.4</td>\n      <td>93.918</td>\n      <td>-42.7</td>\n      <td>4.962</td>\n      <td>5228.1</td>\n      <td>no</td>\n    </tr>\n    <tr>\n      <th>9</th>\n      <td>51</td>\n      <td>housemaid</td>\n      <td>married</td>\n      <td>basic.9y</td>\n      <td>no</td>\n      <td>yes</td>\n      <td>no</td>\n      <td>cellular</td>\n      <td>jul</td>\n      <td>tue</td>\n      <td>...</td>\n      <td>1</td>\n      <td>999</td>\n      <td>0</td>\n      <td>nonexistent</td>\n      <td>1.4</td>\n      <td>93.918</td>\n      <td>-42.7</td>\n      <td>4.961</td>\n      <td>5228.1</td>\n      <td>no</td>\n    </tr>\n    <tr>\n      <th>10</th>\n      <td>45</td>\n      <td>services</td>\n      <td>single</td>\n      <td>high.school</td>\n      <td>no</td>\n      <td>no</td>\n      <td>no</td>\n      <td>telephone</td>\n      <td>jun</td>\n      <td>tue</td>\n      <td>...</td>\n      <td>1</td>\n      <td>999</td>\n      <td>0</td>\n      <td>nonexistent</td>\n      <td>1.4</td>\n      <td>94.465</td>\n      <td>-41.8</td>\n      <td>4.864</td>\n      <td>5228.1</td>\n      <td>no</td>\n    </tr>\n    <tr>\n      <th>11</th>\n      <td>54</td>\n      <td>retired</td>\n      <td>married</td>\n      <td>basic.9y</td>\n      <td>unknown</td>\n      <td>yes</td>\n      <td>yes</td>\n      <td>telephone</td>\n      <td>may</td>\n      <td>mon</td>\n      <td>...</td>\n      <td>1</td>\n      <td>999</td>\n      <td>0</td>\n      <td>nonexistent</td>\n      <td>1.1</td>\n      <td>93.994</td>\n      <td>-36.4</td>\n      <td>4.857</td>\n      <td>5191.0</td>\n      <td>no</td>\n    </tr>\n    <tr>\n      <th>12</th>\n      <td>46</td>\n      <td>admin.</td>\n      <td>married</td>\n      <td>university.degree</td>\n      <td>no</td>\n      <td>yes</td>\n      <td>no</td>\n      <td>cellular</td>\n      <td>mar</td>\n      <td>thu</td>\n      <td>...</td>\n      <td>1</td>\n      <td>999</td>\n      <td>0</td>\n      <td>nonexistent</td>\n      <td>-1.8</td>\n      <td>93.369</td>\n      <td>-34.8</td>\n      <td>0.650</td>\n      <td>5008.7</td>\n      <td>yes</td>\n    </tr>\n    <tr>\n      <th>13</th>\n      <td>33</td>\n      <td>services</td>\n      <td>single</td>\n      <td>high.school</td>\n      <td>no</td>\n      <td>no</td>\n      <td>yes</td>\n      <td>telephone</td>\n      <td>may</td>\n      <td>mon</td>\n      <td>...</td>\n      <td>2</td>\n      <td>999</td>\n      <td>0</td>\n      <td>nonexistent</td>\n      <td>1.1</td>\n      <td>93.994</td>\n      <td>-36.4</td>\n      <td>4.858</td>\n      <td>5191.0</td>\n      <td>no</td>\n    </tr>\n    <tr>\n      <th>14</th>\n      <td>40</td>\n      <td>admin.</td>\n      <td>single</td>\n      <td>high.school</td>\n      <td>no</td>\n      <td>no</td>\n      <td>no</td>\n      <td>cellular</td>\n      <td>may</td>\n      <td>tue</td>\n      <td>...</td>\n      <td>6</td>\n      <td>999</td>\n      <td>0</td>\n      <td>nonexistent</td>\n      <td>-1.8</td>\n      <td>92.893</td>\n      <td>-46.2</td>\n      <td>1.344</td>\n      <td>5099.1</td>\n      <td>no</td>\n    </tr>\n    <tr>\n      <th>15</th>\n      <td>31</td>\n      <td>services</td>\n      <td>married</td>\n      <td>high.school</td>\n      <td>unknown</td>\n      <td>no</td>\n      <td>no</td>\n      <td>telephone</td>\n      <td>may</td>\n      <td>wed</td>\n      <td>...</td>\n      <td>2</td>\n      <td>999</td>\n      <td>0</td>\n      <td>nonexistent</td>\n      <td>1.1</td>\n      <td>93.994</td>\n      <td>-36.4</td>\n      <td>4.857</td>\n      <td>5191.0</td>\n      <td>no</td>\n    </tr>\n    <tr>\n      <th>16</th>\n      <td>26</td>\n      <td>admin.</td>\n      <td>single</td>\n      <td>basic.9y</td>\n      <td>no</td>\n      <td>yes</td>\n      <td>yes</td>\n      <td>cellular</td>\n      <td>jul</td>\n      <td>tue</td>\n      <td>...</td>\n      <td>2</td>\n      <td>999</td>\n      <td>0</td>\n      <td>nonexistent</td>\n      <td>1.4</td>\n      <td>93.918</td>\n      <td>-42.7</td>\n      <td>4.962</td>\n      <td>5228.1</td>\n      <td>yes</td>\n    </tr>\n    <tr>\n      <th>17</th>\n      <td>76</td>\n      <td>retired</td>\n      <td>married</td>\n      <td>basic.6y</td>\n      <td>no</td>\n      <td>no</td>\n      <td>yes</td>\n      <td>cellular</td>\n      <td>aug</td>\n      <td>thu</td>\n      <td>...</td>\n      <td>1</td>\n      <td>999</td>\n      <td>1</td>\n      <td>failure</td>\n      <td>-2.9</td>\n      <td>92.201</td>\n      <td>-31.4</td>\n      <td>0.873</td>\n      <td>5076.2</td>\n      <td>no</td>\n    </tr>\n    <tr>\n      <th>18</th>\n      <td>36</td>\n      <td>blue-collar</td>\n      <td>married</td>\n      <td>university.degree</td>\n      <td>unknown</td>\n      <td>yes</td>\n      <td>yes</td>\n      <td>telephone</td>\n      <td>may</td>\n      <td>fri</td>\n      <td>...</td>\n      <td>1</td>\n      <td>999</td>\n      <td>0</td>\n      <td>nonexistent</td>\n      <td>1.1</td>\n      <td>93.994</td>\n      <td>-36.4</td>\n      <td>4.857</td>\n      <td>5191.0</td>\n      <td>no</td>\n    </tr>\n    <tr>\n      <th>19</th>\n      <td>30</td>\n      <td>admin.</td>\n      <td>single</td>\n      <td>university.degree</td>\n      <td>no</td>\n      <td>yes</td>\n      <td>yes</td>\n      <td>telephone</td>\n      <td>nov</td>\n      <td>fri</td>\n      <td>...</td>\n      <td>1</td>\n      <td>999</td>\n      <td>0</td>\n      <td>nonexistent</td>\n      <td>-0.1</td>\n      <td>93.200</td>\n      <td>-42.0</td>\n      <td>4.021</td>\n      <td>5195.8</td>\n      <td>no</td>\n    </tr>\n    <tr>\n      <th>20</th>\n      <td>59</td>\n      <td>management</td>\n      <td>married</td>\n      <td>university.degree</td>\n      <td>no</td>\n      <td>yes</td>\n      <td>no</td>\n      <td>cellular</td>\n      <td>aug</td>\n      <td>wed</td>\n      <td>...</td>\n      <td>1</td>\n      <td>999</td>\n      <td>0</td>\n      <td>nonexistent</td>\n      <td>1.4</td>\n      <td>93.444</td>\n      <td>-36.1</td>\n      <td>4.964</td>\n      <td>5228.1</td>\n      <td>no</td>\n    </tr>\n    <tr>\n      <th>21</th>\n      <td>38</td>\n      <td>housemaid</td>\n      <td>married</td>\n      <td>high.school</td>\n      <td>no</td>\n      <td>no</td>\n      <td>no</td>\n      <td>cellular</td>\n      <td>jul</td>\n      <td>thu</td>\n      <td>...</td>\n      <td>1</td>\n      <td>999</td>\n      <td>0</td>\n      <td>nonexistent</td>\n      <td>1.4</td>\n      <td>93.918</td>\n      <td>-42.7</td>\n      <td>4.963</td>\n      <td>5228.1</td>\n      <td>no</td>\n    </tr>\n    <tr>\n      <th>22</th>\n      <td>58</td>\n      <td>retired</td>\n      <td>married</td>\n      <td>university.degree</td>\n      <td>no</td>\n      <td>no</td>\n      <td>no</td>\n      <td>cellular</td>\n      <td>may</td>\n      <td>wed</td>\n      <td>...</td>\n      <td>1</td>\n      <td>999</td>\n      <td>1</td>\n      <td>failure</td>\n      <td>-1.8</td>\n      <td>92.893</td>\n      <td>-46.2</td>\n      <td>1.281</td>\n      <td>5099.1</td>\n      <td>no</td>\n    </tr>\n    <tr>\n      <th>23</th>\n      <td>42</td>\n      <td>blue-collar</td>\n      <td>divorced</td>\n      <td>basic.4y</td>\n      <td>no</td>\n      <td>no</td>\n      <td>no</td>\n      <td>telephone</td>\n      <td>may</td>\n      <td>fri</td>\n      <td>...</td>\n      <td>1</td>\n      <td>999</td>\n      <td>0</td>\n      <td>nonexistent</td>\n      <td>1.1</td>\n      <td>93.994</td>\n      <td>-36.4</td>\n      <td>4.857</td>\n      <td>5191.0</td>\n      <td>no</td>\n    </tr>\n    <tr>\n      <th>24</th>\n      <td>39</td>\n      <td>admin.</td>\n      <td>married</td>\n      <td>university.degree</td>\n      <td>no</td>\n      <td>no</td>\n      <td>no</td>\n      <td>telephone</td>\n      <td>may</td>\n      <td>mon</td>\n      <td>...</td>\n      <td>6</td>\n      <td>999</td>\n      <td>0</td>\n      <td>nonexistent</td>\n      <td>1.1</td>\n      <td>93.994</td>\n      <td>-36.4</td>\n      <td>4.857</td>\n      <td>5191.0</td>\n      <td>yes</td>\n    </tr>\n    <tr>\n      <th>25</th>\n      <td>47</td>\n      <td>blue-collar</td>\n      <td>married</td>\n      <td>basic.6y</td>\n      <td>unknown</td>\n      <td>yes</td>\n      <td>no</td>\n      <td>cellular</td>\n      <td>may</td>\n      <td>mon</td>\n      <td>...</td>\n      <td>2</td>\n      <td>999</td>\n      <td>0</td>\n      <td>nonexistent</td>\n      <td>-1.8</td>\n      <td>92.893</td>\n      <td>-46.2</td>\n      <td>1.299</td>\n      <td>5099.1</td>\n      <td>no</td>\n    </tr>\n    <tr>\n      <th>26</th>\n      <td>28</td>\n      <td>technician</td>\n      <td>single</td>\n      <td>university.degree</td>\n      <td>no</td>\n      <td>yes</td>\n      <td>no</td>\n      <td>cellular</td>\n      <td>apr</td>\n      <td>fri</td>\n      <td>...</td>\n      <td>1</td>\n      <td>999</td>\n      <td>1</td>\n      <td>failure</td>\n      <td>-1.8</td>\n      <td>93.075</td>\n      <td>-47.1</td>\n      <td>1.405</td>\n      <td>5099.1</td>\n      <td>no</td>\n    </tr>\n    <tr>\n      <th>27</th>\n      <td>34</td>\n      <td>unemployed</td>\n      <td>married</td>\n      <td>unknown</td>\n      <td>no</td>\n      <td>yes</td>\n      <td>no</td>\n      <td>telephone</td>\n      <td>may</td>\n      <td>fri</td>\n      <td>...</td>\n      <td>3</td>\n      <td>999</td>\n      <td>0</td>\n      <td>nonexistent</td>\n      <td>1.1</td>\n      <td>93.994</td>\n      <td>-36.4</td>\n      <td>4.864</td>\n      <td>5191.0</td>\n      <td>no</td>\n    </tr>\n    <tr>\n      <th>28</th>\n      <td>24</td>\n      <td>student</td>\n      <td>single</td>\n      <td>high.school</td>\n      <td>unknown</td>\n      <td>yes</td>\n      <td>no</td>\n      <td>cellular</td>\n      <td>may</td>\n      <td>wed</td>\n      <td>...</td>\n      <td>1</td>\n      <td>999</td>\n      <td>1</td>\n      <td>failure</td>\n      <td>-1.8</td>\n      <td>92.893</td>\n      <td>-46.2</td>\n      <td>1.281</td>\n      <td>5099.1</td>\n      <td>no</td>\n    </tr>\n    <tr>\n      <th>29</th>\n      <td>32</td>\n      <td>technician</td>\n      <td>married</td>\n      <td>professional.course</td>\n      <td>no</td>\n      <td>yes</td>\n      <td>no</td>\n      <td>cellular</td>\n      <td>oct</td>\n      <td>wed</td>\n      <td>...</td>\n      <td>2</td>\n      <td>999</td>\n      <td>0</td>\n      <td>nonexistent</td>\n      <td>-1.1</td>\n      <td>94.601</td>\n      <td>-49.5</td>\n      <td>0.959</td>\n      <td>4963.6</td>\n      <td>yes</td>\n    </tr>\n    <tr>\n      <th>...</th>\n      <td>...</td>\n      <td>...</td>\n      <td>...</td>\n      <td>...</td>\n      <td>...</td>\n      <td>...</td>\n      <td>...</td>\n      <td>...</td>\n      <td>...</td>\n      <td>...</td>\n      <td>...</td>\n      <td>...</td>\n      <td>...</td>\n      <td>...</td>\n      <td>...</td>\n      <td>...</td>\n      <td>...</td>\n      <td>...</td>\n      <td>...</td>\n      <td>...</td>\n      <td>...</td>\n    </tr>\n    <tr>\n      <th>19970</th>\n      <td>51</td>\n      <td>blue-collar</td>\n      <td>married</td>\n      <td>unknown</td>\n      <td>unknown</td>\n      <td>no</td>\n      <td>no</td>\n      <td>telephone</td>\n      <td>may</td>\n      <td>mon</td>\n      <td>...</td>\n      <td>1</td>\n      <td>999</td>\n      <td>0</td>\n      <td>nonexistent</td>\n      <td>1.1</td>\n      <td>93.994</td>\n      <td>-36.4</td>\n      <td>4.857</td>\n      <td>5191.0</td>\n      <td>no</td>\n    </tr>\n    <tr>\n      <th>19971</th>\n      <td>31</td>\n      <td>admin.</td>\n      <td>single</td>\n      <td>high.school</td>\n      <td>no</td>\n      <td>yes</td>\n      <td>no</td>\n      <td>cellular</td>\n      <td>nov</td>\n      <td>wed</td>\n      <td>...</td>\n      <td>3</td>\n      <td>999</td>\n      <td>0</td>\n      <td>nonexistent</td>\n      <td>-0.1</td>\n      <td>93.200</td>\n      <td>-42.0</td>\n      <td>4.120</td>\n      <td>5195.8</td>\n      <td>no</td>\n    </tr>\n    <tr>\n      <th>19972</th>\n      <td>25</td>\n      <td>blue-collar</td>\n      <td>single</td>\n      <td>basic.9y</td>\n      <td>unknown</td>\n      <td>yes</td>\n      <td>no</td>\n      <td>telephone</td>\n      <td>may</td>\n      <td>thu</td>\n      <td>...</td>\n      <td>1</td>\n      <td>999</td>\n      <td>0</td>\n      <td>nonexistent</td>\n      <td>1.1</td>\n      <td>93.994</td>\n      <td>-36.4</td>\n      <td>4.860</td>\n      <td>5191.0</td>\n      <td>no</td>\n    </tr>\n    <tr>\n      <th>19973</th>\n      <td>31</td>\n      <td>admin.</td>\n      <td>single</td>\n      <td>university.degree</td>\n      <td>no</td>\n      <td>yes</td>\n      <td>no</td>\n      <td>cellular</td>\n      <td>jul</td>\n      <td>tue</td>\n      <td>...</td>\n      <td>2</td>\n      <td>999</td>\n      <td>0</td>\n      <td>nonexistent</td>\n      <td>1.4</td>\n      <td>93.918</td>\n      <td>-42.7</td>\n      <td>4.961</td>\n      <td>5228.1</td>\n      <td>no</td>\n    </tr>\n    <tr>\n      <th>19974</th>\n      <td>37</td>\n      <td>management</td>\n      <td>married</td>\n      <td>university.degree</td>\n      <td>no</td>\n      <td>no</td>\n      <td>yes</td>\n      <td>cellular</td>\n      <td>nov</td>\n      <td>wed</td>\n      <td>...</td>\n      <td>2</td>\n      <td>999</td>\n      <td>0</td>\n      <td>nonexistent</td>\n      <td>-0.1</td>\n      <td>93.200</td>\n      <td>-42.0</td>\n      <td>4.120</td>\n      <td>5195.8</td>\n      <td>no</td>\n    </tr>\n    <tr>\n      <th>19975</th>\n      <td>57</td>\n      <td>technician</td>\n      <td>married</td>\n      <td>high.school</td>\n      <td>no</td>\n      <td>no</td>\n      <td>yes</td>\n      <td>cellular</td>\n      <td>may</td>\n      <td>mon</td>\n      <td>...</td>\n      <td>1</td>\n      <td>999</td>\n      <td>0</td>\n      <td>nonexistent</td>\n      <td>-1.8</td>\n      <td>92.893</td>\n      <td>-46.2</td>\n      <td>1.299</td>\n      <td>5099.1</td>\n      <td>no</td>\n    </tr>\n    <tr>\n      <th>19976</th>\n      <td>33</td>\n      <td>services</td>\n      <td>married</td>\n      <td>university.degree</td>\n      <td>unknown</td>\n      <td>yes</td>\n      <td>no</td>\n      <td>cellular</td>\n      <td>aug</td>\n      <td>thu</td>\n      <td>...</td>\n      <td>3</td>\n      <td>999</td>\n      <td>0</td>\n      <td>nonexistent</td>\n      <td>1.4</td>\n      <td>93.444</td>\n      <td>-36.1</td>\n      <td>4.962</td>\n      <td>5228.1</td>\n      <td>no</td>\n    </tr>\n    <tr>\n      <th>19977</th>\n      <td>36</td>\n      <td>blue-collar</td>\n      <td>married</td>\n      <td>high.school</td>\n      <td>no</td>\n      <td>yes</td>\n      <td>no</td>\n      <td>cellular</td>\n      <td>nov</td>\n      <td>thu</td>\n      <td>...</td>\n      <td>2</td>\n      <td>999</td>\n      <td>0</td>\n      <td>nonexistent</td>\n      <td>-0.1</td>\n      <td>93.200</td>\n      <td>-42.0</td>\n      <td>4.076</td>\n      <td>5195.8</td>\n      <td>no</td>\n    </tr>\n    <tr>\n      <th>19978</th>\n      <td>40</td>\n      <td>technician</td>\n      <td>married</td>\n      <td>professional.course</td>\n      <td>no</td>\n      <td>no</td>\n      <td>no</td>\n      <td>cellular</td>\n      <td>aug</td>\n      <td>mon</td>\n      <td>...</td>\n      <td>9</td>\n      <td>999</td>\n      <td>0</td>\n      <td>nonexistent</td>\n      <td>1.4</td>\n      <td>93.444</td>\n      <td>-36.1</td>\n      <td>4.965</td>\n      <td>5228.1</td>\n      <td>no</td>\n    </tr>\n    <tr>\n      <th>19979</th>\n      <td>31</td>\n      <td>technician</td>\n      <td>single</td>\n      <td>university.degree</td>\n      <td>no</td>\n      <td>yes</td>\n      <td>yes</td>\n      <td>telephone</td>\n      <td>nov</td>\n      <td>fri</td>\n      <td>...</td>\n      <td>3</td>\n      <td>999</td>\n      <td>0</td>\n      <td>nonexistent</td>\n      <td>-0.1</td>\n      <td>93.200</td>\n      <td>-42.0</td>\n      <td>4.021</td>\n      <td>5195.8</td>\n      <td>no</td>\n    </tr>\n    <tr>\n      <th>19980</th>\n      <td>28</td>\n      <td>unemployed</td>\n      <td>married</td>\n      <td>high.school</td>\n      <td>unknown</td>\n      <td>no</td>\n      <td>no</td>\n      <td>cellular</td>\n      <td>may</td>\n      <td>tue</td>\n      <td>...</td>\n      <td>1</td>\n      <td>999</td>\n      <td>1</td>\n      <td>failure</td>\n      <td>-1.8</td>\n      <td>92.893</td>\n      <td>-46.2</td>\n      <td>1.291</td>\n      <td>5099.1</td>\n      <td>no</td>\n    </tr>\n    <tr>\n      <th>19981</th>\n      <td>27</td>\n      <td>admin.</td>\n      <td>single</td>\n      <td>high.school</td>\n      <td>no</td>\n      <td>yes</td>\n      <td>no</td>\n      <td>cellular</td>\n      <td>jul</td>\n      <td>tue</td>\n      <td>...</td>\n      <td>2</td>\n      <td>999</td>\n      <td>0</td>\n      <td>nonexistent</td>\n      <td>1.4</td>\n      <td>93.918</td>\n      <td>-42.7</td>\n      <td>4.962</td>\n      <td>5228.1</td>\n      <td>no</td>\n    </tr>\n    <tr>\n      <th>19982</th>\n      <td>32</td>\n      <td>technician</td>\n      <td>married</td>\n      <td>professional.course</td>\n      <td>no</td>\n      <td>no</td>\n      <td>no</td>\n      <td>telephone</td>\n      <td>may</td>\n      <td>wed</td>\n      <td>...</td>\n      <td>2</td>\n      <td>999</td>\n      <td>0</td>\n      <td>nonexistent</td>\n      <td>1.1</td>\n      <td>93.994</td>\n      <td>-36.4</td>\n      <td>4.858</td>\n      <td>5191.0</td>\n      <td>no</td>\n    </tr>\n    <tr>\n      <th>19983</th>\n      <td>44</td>\n      <td>management</td>\n      <td>married</td>\n      <td>high.school</td>\n      <td>unknown</td>\n      <td>no</td>\n      <td>yes</td>\n      <td>cellular</td>\n      <td>jul</td>\n      <td>mon</td>\n      <td>...</td>\n      <td>1</td>\n      <td>999</td>\n      <td>0</td>\n      <td>nonexistent</td>\n      <td>1.4</td>\n      <td>93.918</td>\n      <td>-42.7</td>\n      <td>4.962</td>\n      <td>5228.1</td>\n      <td>no</td>\n    </tr>\n    <tr>\n      <th>19984</th>\n      <td>31</td>\n      <td>management</td>\n      <td>single</td>\n      <td>university.degree</td>\n      <td>no</td>\n      <td>yes</td>\n      <td>no</td>\n      <td>cellular</td>\n      <td>apr</td>\n      <td>thu</td>\n      <td>...</td>\n      <td>1</td>\n      <td>999</td>\n      <td>0</td>\n      <td>nonexistent</td>\n      <td>-1.8</td>\n      <td>93.075</td>\n      <td>-47.1</td>\n      <td>1.365</td>\n      <td>5099.1</td>\n      <td>no</td>\n    </tr>\n    <tr>\n      <th>19985</th>\n      <td>32</td>\n      <td>blue-collar</td>\n      <td>married</td>\n      <td>basic.6y</td>\n      <td>unknown</td>\n      <td>yes</td>\n      <td>no</td>\n      <td>telephone</td>\n      <td>may</td>\n      <td>mon</td>\n      <td>...</td>\n      <td>1</td>\n      <td>999</td>\n      <td>0</td>\n      <td>nonexistent</td>\n      <td>1.1</td>\n      <td>93.994</td>\n      <td>-36.4</td>\n      <td>4.858</td>\n      <td>5191.0</td>\n      <td>no</td>\n    </tr>\n    <tr>\n      <th>19986</th>\n      <td>40</td>\n      <td>services</td>\n      <td>married</td>\n      <td>basic.4y</td>\n      <td>unknown</td>\n      <td>yes</td>\n      <td>no</td>\n      <td>cellular</td>\n      <td>jul</td>\n      <td>wed</td>\n      <td>...</td>\n      <td>1</td>\n      <td>999</td>\n      <td>0</td>\n      <td>nonexistent</td>\n      <td>1.4</td>\n      <td>93.918</td>\n      <td>-42.7</td>\n      <td>4.963</td>\n      <td>5228.1</td>\n      <td>no</td>\n    </tr>\n    <tr>\n      <th>19987</th>\n      <td>53</td>\n      <td>services</td>\n      <td>divorced</td>\n      <td>basic.4y</td>\n      <td>unknown</td>\n      <td>yes</td>\n      <td>no</td>\n      <td>cellular</td>\n      <td>jul</td>\n      <td>wed</td>\n      <td>...</td>\n      <td>1</td>\n      <td>999</td>\n      <td>0</td>\n      <td>nonexistent</td>\n      <td>1.4</td>\n      <td>93.918</td>\n      <td>-42.7</td>\n      <td>4.962</td>\n      <td>5228.1</td>\n      <td>no</td>\n    </tr>\n    <tr>\n      <th>19988</th>\n      <td>42</td>\n      <td>blue-collar</td>\n      <td>married</td>\n      <td>basic.9y</td>\n      <td>unknown</td>\n      <td>yes</td>\n      <td>no</td>\n      <td>cellular</td>\n      <td>jul</td>\n      <td>wed</td>\n      <td>...</td>\n      <td>10</td>\n      <td>999</td>\n      <td>0</td>\n      <td>nonexistent</td>\n      <td>1.4</td>\n      <td>93.918</td>\n      <td>-42.7</td>\n      <td>4.962</td>\n      <td>5228.1</td>\n      <td>no</td>\n    </tr>\n    <tr>\n      <th>19989</th>\n      <td>52</td>\n      <td>admin.</td>\n      <td>married</td>\n      <td>university.degree</td>\n      <td>no</td>\n      <td>yes</td>\n      <td>yes</td>\n      <td>cellular</td>\n      <td>may</td>\n      <td>wed</td>\n      <td>...</td>\n      <td>1</td>\n      <td>999</td>\n      <td>0</td>\n      <td>nonexistent</td>\n      <td>-1.8</td>\n      <td>92.893</td>\n      <td>-46.2</td>\n      <td>1.270</td>\n      <td>5099.1</td>\n      <td>no</td>\n    </tr>\n    <tr>\n      <th>19990</th>\n      <td>33</td>\n      <td>unemployed</td>\n      <td>married</td>\n      <td>basic.9y</td>\n      <td>no</td>\n      <td>yes</td>\n      <td>no</td>\n      <td>telephone</td>\n      <td>may</td>\n      <td>wed</td>\n      <td>...</td>\n      <td>3</td>\n      <td>999</td>\n      <td>0</td>\n      <td>nonexistent</td>\n      <td>1.1</td>\n      <td>93.994</td>\n      <td>-36.4</td>\n      <td>4.858</td>\n      <td>5191.0</td>\n      <td>no</td>\n    </tr>\n    <tr>\n      <th>19991</th>\n      <td>41</td>\n      <td>housemaid</td>\n      <td>married</td>\n      <td>university.degree</td>\n      <td>no</td>\n      <td>yes</td>\n      <td>no</td>\n      <td>cellular</td>\n      <td>aug</td>\n      <td>thu</td>\n      <td>...</td>\n      <td>1</td>\n      <td>999</td>\n      <td>0</td>\n      <td>nonexistent</td>\n      <td>1.4</td>\n      <td>93.444</td>\n      <td>-36.1</td>\n      <td>4.963</td>\n      <td>5228.1</td>\n      <td>no</td>\n    </tr>\n    <tr>\n      <th>19992</th>\n      <td>54</td>\n      <td>technician</td>\n      <td>married</td>\n      <td>university.degree</td>\n      <td>unknown</td>\n      <td>no</td>\n      <td>no</td>\n      <td>telephone</td>\n      <td>jun</td>\n      <td>mon</td>\n      <td>...</td>\n      <td>4</td>\n      <td>999</td>\n      <td>0</td>\n      <td>nonexistent</td>\n      <td>1.4</td>\n      <td>94.465</td>\n      <td>-41.8</td>\n      <td>4.960</td>\n      <td>5228.1</td>\n      <td>no</td>\n    </tr>\n    <tr>\n      <th>19993</th>\n      <td>44</td>\n      <td>blue-collar</td>\n      <td>married</td>\n      <td>basic.9y</td>\n      <td>no</td>\n      <td>yes</td>\n      <td>no</td>\n      <td>cellular</td>\n      <td>jul</td>\n      <td>thu</td>\n      <td>...</td>\n      <td>1</td>\n      <td>999</td>\n      <td>0</td>\n      <td>nonexistent</td>\n      <td>1.4</td>\n      <td>93.918</td>\n      <td>-42.7</td>\n      <td>4.963</td>\n      <td>5228.1</td>\n      <td>no</td>\n    </tr>\n    <tr>\n      <th>19994</th>\n      <td>59</td>\n      <td>retired</td>\n      <td>divorced</td>\n      <td>basic.4y</td>\n      <td>no</td>\n      <td>no</td>\n      <td>no</td>\n      <td>cellular</td>\n      <td>may</td>\n      <td>fri</td>\n      <td>...</td>\n      <td>2</td>\n      <td>999</td>\n      <td>0</td>\n      <td>nonexistent</td>\n      <td>-1.8</td>\n      <td>92.893</td>\n      <td>-46.2</td>\n      <td>1.250</td>\n      <td>5099.1</td>\n      <td>no</td>\n    </tr>\n    <tr>\n      <th>19995</th>\n      <td>24</td>\n      <td>technician</td>\n      <td>single</td>\n      <td>university.degree</td>\n      <td>no</td>\n      <td>no</td>\n      <td>no</td>\n      <td>cellular</td>\n      <td>jul</td>\n      <td>thu</td>\n      <td>...</td>\n      <td>3</td>\n      <td>999</td>\n      <td>0</td>\n      <td>nonexistent</td>\n      <td>1.4</td>\n      <td>93.918</td>\n      <td>-42.7</td>\n      <td>4.968</td>\n      <td>5228.1</td>\n      <td>no</td>\n    </tr>\n    <tr>\n      <th>19996</th>\n      <td>42</td>\n      <td>technician</td>\n      <td>single</td>\n      <td>unknown</td>\n      <td>no</td>\n      <td>yes</td>\n      <td>no</td>\n      <td>cellular</td>\n      <td>aug</td>\n      <td>tue</td>\n      <td>...</td>\n      <td>1</td>\n      <td>999</td>\n      <td>1</td>\n      <td>failure</td>\n      <td>-2.9</td>\n      <td>92.201</td>\n      <td>-31.4</td>\n      <td>0.884</td>\n      <td>5076.2</td>\n      <td>no</td>\n    </tr>\n    <tr>\n      <th>19997</th>\n      <td>31</td>\n      <td>technician</td>\n      <td>married</td>\n      <td>professional.course</td>\n      <td>no</td>\n      <td>no</td>\n      <td>no</td>\n      <td>telephone</td>\n      <td>may</td>\n      <td>thu</td>\n      <td>...</td>\n      <td>2</td>\n      <td>999</td>\n      <td>0</td>\n      <td>nonexistent</td>\n      <td>1.1</td>\n      <td>93.994</td>\n      <td>-36.4</td>\n      <td>4.860</td>\n      <td>5191.0</td>\n      <td>no</td>\n    </tr>\n    <tr>\n      <th>19998</th>\n      <td>25</td>\n      <td>blue-collar</td>\n      <td>married</td>\n      <td>professional.course</td>\n      <td>unknown</td>\n      <td>yes</td>\n      <td>no</td>\n      <td>telephone</td>\n      <td>jun</td>\n      <td>mon</td>\n      <td>...</td>\n      <td>2</td>\n      <td>999</td>\n      <td>0</td>\n      <td>nonexistent</td>\n      <td>1.4</td>\n      <td>94.465</td>\n      <td>-41.8</td>\n      <td>4.961</td>\n      <td>5228.1</td>\n      <td>no</td>\n    </tr>\n    <tr>\n      <th>19999</th>\n      <td>33</td>\n      <td>technician</td>\n      <td>single</td>\n      <td>high.school</td>\n      <td>no</td>\n      <td>no</td>\n      <td>no</td>\n      <td>cellular</td>\n      <td>apr</td>\n      <td>fri</td>\n      <td>...</td>\n      <td>1</td>\n      <td>999</td>\n      <td>0</td>\n      <td>nonexistent</td>\n      <td>-1.8</td>\n      <td>93.075</td>\n      <td>-47.1</td>\n      <td>1.405</td>\n      <td>5099.1</td>\n      <td>yes</td>\n    </tr>\n  </tbody>\n</table>\n<p>20000 rows × 21 columns</p>\n</div>"
      ],
      "text/plain": [
       "       age          job   marital            education  default housing loan  \\\n0       58    housemaid   married             basic.4y  unknown     yes   no   \n1       38   technician   married  professional.course       no     yes   no   \n2       81      retired  divorced             basic.4y       no     yes   no   \n3       49  blue-collar   married             basic.6y       no     yes   no   \n4       38   unemployed   married             basic.4y  unknown      no   no   \n5       47       admin.    single              unknown  unknown     yes   no   \n6       33       admin.   married    university.degree       no      no  yes   \n7       31   technician    single    university.degree       no     yes   no   \n8       31       admin.  divorced          high.school       no      no  yes   \n9       51    housemaid   married             basic.9y       no     yes   no   \n10      45     services    single          high.school       no      no   no   \n11      54      retired   married             basic.9y  unknown     yes  yes   \n12      46       admin.   married    university.degree       no     yes   no   \n13      33     services    single          high.school       no      no  yes   \n14      40       admin.    single          high.school       no      no   no   \n15      31     services   married          high.school  unknown      no   no   \n16      26       admin.    single             basic.9y       no     yes  yes   \n17      76      retired   married             basic.6y       no      no  yes   \n18      36  blue-collar   married    university.degree  unknown     yes  yes   \n19      30       admin.    single    university.degree       no     yes  yes   \n20      59   management   married    university.degree       no     yes   no   \n21      38    housemaid   married          high.school       no      no   no   \n22      58      retired   married    university.degree       no      no   no   \n23      42  blue-collar  divorced             basic.4y       no      no   no   \n24      39       admin.   married    university.degree       no      no   no   \n25      47  blue-collar   married             basic.6y  unknown     yes   no   \n26      28   technician    single    university.degree       no     yes   no   \n27      34   unemployed   married              unknown       no     yes   no   \n28      24      student    single          high.school  unknown     yes   no   \n29      32   technician   married  professional.course       no     yes   no   \n...    ...          ...       ...                  ...      ...     ...  ...   \n19970   51  blue-collar   married              unknown  unknown      no   no   \n19971   31       admin.    single          high.school       no     yes   no   \n19972   25  blue-collar    single             basic.9y  unknown     yes   no   \n19973   31       admin.    single    university.degree       no     yes   no   \n19974   37   management   married    university.degree       no      no  yes   \n19975   57   technician   married          high.school       no      no  yes   \n19976   33     services   married    university.degree  unknown     yes   no   \n19977   36  blue-collar   married          high.school       no     yes   no   \n19978   40   technician   married  professional.course       no      no   no   \n19979   31   technician    single    university.degree       no     yes  yes   \n19980   28   unemployed   married          high.school  unknown      no   no   \n19981   27       admin.    single          high.school       no     yes   no   \n19982   32   technician   married  professional.course       no      no   no   \n19983   44   management   married          high.school  unknown      no  yes   \n19984   31   management    single    university.degree       no     yes   no   \n19985   32  blue-collar   married             basic.6y  unknown     yes   no   \n19986   40     services   married             basic.4y  unknown     yes   no   \n19987   53     services  divorced             basic.4y  unknown     yes   no   \n19988   42  blue-collar   married             basic.9y  unknown     yes   no   \n19989   52       admin.   married    university.degree       no     yes  yes   \n19990   33   unemployed   married             basic.9y       no     yes   no   \n19991   41    housemaid   married    university.degree       no     yes   no   \n19992   54   technician   married    university.degree  unknown      no   no   \n19993   44  blue-collar   married             basic.9y       no     yes   no   \n19994   59      retired  divorced             basic.4y       no      no   no   \n19995   24   technician    single    university.degree       no      no   no   \n19996   42   technician    single              unknown       no     yes   no   \n19997   31   technician   married  professional.course       no      no   no   \n19998   25  blue-collar   married  professional.course  unknown     yes   no   \n19999   33   technician    single          high.school       no      no   no   \n\n         contact month day_of_week ...   campaign  pdays  previous  \\\n0       cellular   aug         mon ...          2    999         0   \n1      telephone   may         tue ...          1    999         0   \n2       cellular   oct         thu ...          1    999         1   \n3      telephone   may         fri ...          2    999         0   \n4      telephone   jun         thu ...          1    999         0   \n5      telephone   may         tue ...          1    999         0   \n6      telephone   jun         tue ...          2    999         0   \n7       cellular   jul         mon ...          4    999         0   \n8       cellular   jul         fri ...          2    999         0   \n9       cellular   jul         tue ...          1    999         0   \n10     telephone   jun         tue ...          1    999         0   \n11     telephone   may         mon ...          1    999         0   \n12      cellular   mar         thu ...          1    999         0   \n13     telephone   may         mon ...          2    999         0   \n14      cellular   may         tue ...          6    999         0   \n15     telephone   may         wed ...          2    999         0   \n16      cellular   jul         tue ...          2    999         0   \n17      cellular   aug         thu ...          1    999         1   \n18     telephone   may         fri ...          1    999         0   \n19     telephone   nov         fri ...          1    999         0   \n20      cellular   aug         wed ...          1    999         0   \n21      cellular   jul         thu ...          1    999         0   \n22      cellular   may         wed ...          1    999         1   \n23     telephone   may         fri ...          1    999         0   \n24     telephone   may         mon ...          6    999         0   \n25      cellular   may         mon ...          2    999         0   \n26      cellular   apr         fri ...          1    999         1   \n27     telephone   may         fri ...          3    999         0   \n28      cellular   may         wed ...          1    999         1   \n29      cellular   oct         wed ...          2    999         0   \n...          ...   ...         ... ...        ...    ...       ...   \n19970  telephone   may         mon ...          1    999         0   \n19971   cellular   nov         wed ...          3    999         0   \n19972  telephone   may         thu ...          1    999         0   \n19973   cellular   jul         tue ...          2    999         0   \n19974   cellular   nov         wed ...          2    999         0   \n19975   cellular   may         mon ...          1    999         0   \n19976   cellular   aug         thu ...          3    999         0   \n19977   cellular   nov         thu ...          2    999         0   \n19978   cellular   aug         mon ...          9    999         0   \n19979  telephone   nov         fri ...          3    999         0   \n19980   cellular   may         tue ...          1    999         1   \n19981   cellular   jul         tue ...          2    999         0   \n19982  telephone   may         wed ...          2    999         0   \n19983   cellular   jul         mon ...          1    999         0   \n19984   cellular   apr         thu ...          1    999         0   \n19985  telephone   may         mon ...          1    999         0   \n19986   cellular   jul         wed ...          1    999         0   \n19987   cellular   jul         wed ...          1    999         0   \n19988   cellular   jul         wed ...         10    999         0   \n19989   cellular   may         wed ...          1    999         0   \n19990  telephone   may         wed ...          3    999         0   \n19991   cellular   aug         thu ...          1    999         0   \n19992  telephone   jun         mon ...          4    999         0   \n19993   cellular   jul         thu ...          1    999         0   \n19994   cellular   may         fri ...          2    999         0   \n19995   cellular   jul         thu ...          3    999         0   \n19996   cellular   aug         tue ...          1    999         1   \n19997  telephone   may         thu ...          2    999         0   \n19998  telephone   jun         mon ...          2    999         0   \n19999   cellular   apr         fri ...          1    999         0   \n\n          poutcome emp.var.rate  cons.price.idx  cons.conf.idx  euribor3m  \\\n0      nonexistent          1.4          93.444          -36.1      4.970   \n1      nonexistent          1.1          93.994          -36.4      4.856   \n2          failure         -1.1          94.601          -49.5      0.987   \n3      nonexistent          1.1          93.994          -36.4      4.864   \n4      nonexistent          1.4          94.465          -41.8      4.961   \n5      nonexistent          1.1          93.994          -36.4      4.857   \n6      nonexistent          1.4          94.465          -41.8      4.961   \n7      nonexistent          1.4          93.918          -42.7      4.962   \n8      nonexistent          1.4          93.918          -42.7      4.962   \n9      nonexistent          1.4          93.918          -42.7      4.961   \n10     nonexistent          1.4          94.465          -41.8      4.864   \n11     nonexistent          1.1          93.994          -36.4      4.857   \n12     nonexistent         -1.8          93.369          -34.8      0.650   \n13     nonexistent          1.1          93.994          -36.4      4.858   \n14     nonexistent         -1.8          92.893          -46.2      1.344   \n15     nonexistent          1.1          93.994          -36.4      4.857   \n16     nonexistent          1.4          93.918          -42.7      4.962   \n17         failure         -2.9          92.201          -31.4      0.873   \n18     nonexistent          1.1          93.994          -36.4      4.857   \n19     nonexistent         -0.1          93.200          -42.0      4.021   \n20     nonexistent          1.4          93.444          -36.1      4.964   \n21     nonexistent          1.4          93.918          -42.7      4.963   \n22         failure         -1.8          92.893          -46.2      1.281   \n23     nonexistent          1.1          93.994          -36.4      4.857   \n24     nonexistent          1.1          93.994          -36.4      4.857   \n25     nonexistent         -1.8          92.893          -46.2      1.299   \n26         failure         -1.8          93.075          -47.1      1.405   \n27     nonexistent          1.1          93.994          -36.4      4.864   \n28         failure         -1.8          92.893          -46.2      1.281   \n29     nonexistent         -1.1          94.601          -49.5      0.959   \n...            ...          ...             ...            ...        ...   \n19970  nonexistent          1.1          93.994          -36.4      4.857   \n19971  nonexistent         -0.1          93.200          -42.0      4.120   \n19972  nonexistent          1.1          93.994          -36.4      4.860   \n19973  nonexistent          1.4          93.918          -42.7      4.961   \n19974  nonexistent         -0.1          93.200          -42.0      4.120   \n19975  nonexistent         -1.8          92.893          -46.2      1.299   \n19976  nonexistent          1.4          93.444          -36.1      4.962   \n19977  nonexistent         -0.1          93.200          -42.0      4.076   \n19978  nonexistent          1.4          93.444          -36.1      4.965   \n19979  nonexistent         -0.1          93.200          -42.0      4.021   \n19980      failure         -1.8          92.893          -46.2      1.291   \n19981  nonexistent          1.4          93.918          -42.7      4.962   \n19982  nonexistent          1.1          93.994          -36.4      4.858   \n19983  nonexistent          1.4          93.918          -42.7      4.962   \n19984  nonexistent         -1.8          93.075          -47.1      1.365   \n19985  nonexistent          1.1          93.994          -36.4      4.858   \n19986  nonexistent          1.4          93.918          -42.7      4.963   \n19987  nonexistent          1.4          93.918          -42.7      4.962   \n19988  nonexistent          1.4          93.918          -42.7      4.962   \n19989  nonexistent         -1.8          92.893          -46.2      1.270   \n19990  nonexistent          1.1          93.994          -36.4      4.858   \n19991  nonexistent          1.4          93.444          -36.1      4.963   \n19992  nonexistent          1.4          94.465          -41.8      4.960   \n19993  nonexistent          1.4          93.918          -42.7      4.963   \n19994  nonexistent         -1.8          92.893          -46.2      1.250   \n19995  nonexistent          1.4          93.918          -42.7      4.968   \n19996      failure         -2.9          92.201          -31.4      0.884   \n19997  nonexistent          1.1          93.994          -36.4      4.860   \n19998  nonexistent          1.4          94.465          -41.8      4.961   \n19999  nonexistent         -1.8          93.075          -47.1      1.405   \n\n       nr.employed    y  \n0           5228.1   no  \n1           5191.0   no  \n2           4963.6   no  \n3           5191.0  yes  \n4           5228.1   no  \n5           5191.0   no  \n6           5228.1   no  \n7           5228.1   no  \n8           5228.1   no  \n9           5228.1   no  \n10          5228.1   no  \n11          5191.0   no  \n12          5008.7  yes  \n13          5191.0   no  \n14          5099.1   no  \n15          5191.0   no  \n16          5228.1  yes  \n17          5076.2   no  \n18          5191.0   no  \n19          5195.8   no  \n20          5228.1   no  \n21          5228.1   no  \n22          5099.1   no  \n23          5191.0   no  \n24          5191.0  yes  \n25          5099.1   no  \n26          5099.1   no  \n27          5191.0   no  \n28          5099.1   no  \n29          4963.6  yes  \n...            ...  ...  \n19970       5191.0   no  \n19971       5195.8   no  \n19972       5191.0   no  \n19973       5228.1   no  \n19974       5195.8   no  \n19975       5099.1   no  \n19976       5228.1   no  \n19977       5195.8   no  \n19978       5228.1   no  \n19979       5195.8   no  \n19980       5099.1   no  \n19981       5228.1   no  \n19982       5191.0   no  \n19983       5228.1   no  \n19984       5099.1   no  \n19985       5191.0   no  \n19986       5228.1   no  \n19987       5228.1   no  \n19988       5228.1   no  \n19989       5099.1   no  \n19990       5191.0   no  \n19991       5228.1   no  \n19992       5228.1   no  \n19993       5228.1   no  \n19994       5099.1   no  \n19995       5228.1   no  \n19996       5076.2   no  \n19997       5191.0   no  \n19998       5228.1   no  \n19999       5099.1  yes  \n\n[20000 rows x 21 columns]"
      ]
     },
     "execution_count": 8,
     "metadata": {},
     "output_type": "execute_result"
    }
   ],
   "source": [
    "df_train_data"
   ]
  },
  {
   "cell_type": "markdown",
   "metadata": {},
   "source": [
    "今回は、この中で、marital（婚姻状況）を予測するモデルの構築を行ってもらいます。"
   ]
  },
  {
   "cell_type": "markdown",
   "metadata": {},
   "source": [
    "### Step 2　使用する列の抽出\n次に、使用する列だけを取り出します。　今回はmaritalと、予測に使えそうな age, housing を取り出します。"
   ]
  },
  {
   "cell_type": "code",
   "execution_count": 9,
   "metadata": {
    "trusted": true
   },
   "outputs": [],
   "source": [
    "y_ = df_train_data.marital# ラベルデータ"
   ]
  },
  {
   "cell_type": "code",
   "execution_count": 10,
   "metadata": {
    "trusted": true
   },
   "outputs": [
    {
     "data": {
      "text/html": [
       "<div>\n<table border=\"1\" class=\"dataframe\">\n  <thead>\n    <tr style=\"text-align: right;\">\n      <th></th>\n      <th>marital</th>\n    </tr>\n  </thead>\n  <tbody>\n    <tr>\n      <th>0</th>\n      <td>married</td>\n    </tr>\n    <tr>\n      <th>1</th>\n      <td>married</td>\n    </tr>\n    <tr>\n      <th>2</th>\n      <td>divorced</td>\n    </tr>\n    <tr>\n      <th>3</th>\n      <td>married</td>\n    </tr>\n    <tr>\n      <th>4</th>\n      <td>married</td>\n    </tr>\n    <tr>\n      <th>5</th>\n      <td>single</td>\n    </tr>\n    <tr>\n      <th>6</th>\n      <td>married</td>\n    </tr>\n    <tr>\n      <th>7</th>\n      <td>single</td>\n    </tr>\n    <tr>\n      <th>8</th>\n      <td>divorced</td>\n    </tr>\n    <tr>\n      <th>9</th>\n      <td>married</td>\n    </tr>\n  </tbody>\n</table>\n</div>"
      ],
      "text/plain": [
       "    marital\n0   married\n1   married\n2  divorced\n3   married\n4   married\n5    single\n6   married\n7    single\n8  divorced\n9   married"
      ]
     },
     "execution_count": 10,
     "metadata": {},
     "output_type": "execute_result"
    }
   ],
   "source": [
    "DataFrame(y_).head(10)"
   ]
  },
  {
   "cell_type": "markdown",
   "metadata": {},
   "source": [
    "ラベルデータの上位10件を表示しました。"
   ]
  },
  {
   "cell_type": "code",
   "execution_count": 11,
   "metadata": {
    "trusted": true
   },
   "outputs": [],
   "source": [
    "X_ = df_train_data[['age', 'housing']]"
   ]
  },
  {
   "cell_type": "code",
   "execution_count": 12,
   "metadata": {
    "scrolled": true,
    "trusted": true
   },
   "outputs": [
    {
     "data": {
      "text/html": [
       "<div>\n<table border=\"1\" class=\"dataframe\">\n  <thead>\n    <tr style=\"text-align: right;\">\n      <th></th>\n      <th>age</th>\n      <th>housing</th>\n    </tr>\n  </thead>\n  <tbody>\n    <tr>\n      <th>0</th>\n      <td>58</td>\n      <td>yes</td>\n    </tr>\n    <tr>\n      <th>1</th>\n      <td>38</td>\n      <td>yes</td>\n    </tr>\n    <tr>\n      <th>2</th>\n      <td>81</td>\n      <td>yes</td>\n    </tr>\n    <tr>\n      <th>3</th>\n      <td>49</td>\n      <td>yes</td>\n    </tr>\n    <tr>\n      <th>4</th>\n      <td>38</td>\n      <td>no</td>\n    </tr>\n    <tr>\n      <th>5</th>\n      <td>47</td>\n      <td>yes</td>\n    </tr>\n    <tr>\n      <th>6</th>\n      <td>33</td>\n      <td>no</td>\n    </tr>\n    <tr>\n      <th>7</th>\n      <td>31</td>\n      <td>yes</td>\n    </tr>\n    <tr>\n      <th>8</th>\n      <td>31</td>\n      <td>no</td>\n    </tr>\n    <tr>\n      <th>9</th>\n      <td>51</td>\n      <td>yes</td>\n    </tr>\n  </tbody>\n</table>\n</div>"
      ],
      "text/plain": [
       "   age housing\n0   58     yes\n1   38     yes\n2   81     yes\n3   49     yes\n4   38      no\n5   47     yes\n6   33      no\n7   31     yes\n8   31      no\n9   51     yes"
      ]
     },
     "execution_count": 12,
     "metadata": {},
     "output_type": "execute_result"
    }
   ],
   "source": [
    "X_.head(10)"
   ]
  },
  {
   "cell_type": "markdown",
   "metadata": {},
   "source": [
    "特徴量データの上位10件を表示しました。"
   ]
  },
  {
   "cell_type": "markdown",
   "metadata": {},
   "source": [
    "### Step3　特徴量データの前処理\n識別器での学習を行う前に、特徴量を適切な形へ変換する必要があります。\nその過程を見ていきましょう。"
   ]
  },
  {
   "cell_type": "markdown",
   "metadata": {},
   "source": [
    "まず、欠損値を含むデータの扱いですが、本課題では、簡単のため単純に削除する手法を取ります。"
   ]
  },
  {
   "cell_type": "code",
   "execution_count": 13,
   "metadata": {
    "trusted": true
   },
   "outputs": [],
   "source": [
    "df_temp = pd.concat([y_, X_], axis=1).dropna(how='any')# 欠損値を含むデータの削除\n",
    "df_temp.index = range(len(df_temp)) \n",
    "y = df_temp.marital\n",
    "X = df_temp[['age', 'housing']]"
   ]
  },
  {
   "cell_type": "markdown",
   "metadata": {},
   "source": [
    "次に、housing 列は文字列であるため、数値に変換してあげる必要があります。ここでは、yes = 2, unknown = 1, no = 0 として変換します。"
   ]
  },
  {
   "cell_type": "code",
   "execution_count": 14,
   "metadata": {
    "trusted": true
   },
   "outputs": [
    {
     "data": {
      "text/html": [
       "<div>\n<table border=\"1\" class=\"dataframe\">\n  <thead>\n    <tr style=\"text-align: right;\">\n      <th></th>\n      <th>age</th>\n      <th>housing</th>\n    </tr>\n  </thead>\n  <tbody>\n    <tr>\n      <th>19990</th>\n      <td>33</td>\n      <td>yes</td>\n    </tr>\n    <tr>\n      <th>19991</th>\n      <td>41</td>\n      <td>yes</td>\n    </tr>\n    <tr>\n      <th>19992</th>\n      <td>54</td>\n      <td>no</td>\n    </tr>\n    <tr>\n      <th>19993</th>\n      <td>44</td>\n      <td>yes</td>\n    </tr>\n    <tr>\n      <th>19994</th>\n      <td>59</td>\n      <td>no</td>\n    </tr>\n    <tr>\n      <th>19995</th>\n      <td>24</td>\n      <td>no</td>\n    </tr>\n    <tr>\n      <th>19996</th>\n      <td>42</td>\n      <td>yes</td>\n    </tr>\n    <tr>\n      <th>19997</th>\n      <td>31</td>\n      <td>no</td>\n    </tr>\n    <tr>\n      <th>19998</th>\n      <td>25</td>\n      <td>yes</td>\n    </tr>\n    <tr>\n      <th>19999</th>\n      <td>33</td>\n      <td>no</td>\n    </tr>\n  </tbody>\n</table>\n</div>"
      ],
      "text/plain": [
       "       age housing\n19990   33     yes\n19991   41     yes\n19992   54      no\n19993   44     yes\n19994   59      no\n19995   24      no\n19996   42     yes\n19997   31      no\n19998   25     yes\n19999   33      no"
      ]
     },
     "execution_count": 14,
     "metadata": {},
     "output_type": "execute_result"
    }
   ],
   "source": [
    "X.tail(10)"
   ]
  },
  {
   "cell_type": "code",
   "execution_count": 29,
   "metadata": {
    "trusted": true
   },
   "outputs": [],
   "source": [
    "housing_le = LabelEncoder()\n",
    "X.housing = housing_le.fit_transform(X.housing)"
   ]
  },
  {
   "cell_type": "code",
   "execution_count": 30,
   "metadata": {
    "trusted": true
   },
   "outputs": [
    {
     "data": {
      "text/html": [
       "<div>\n<table border=\"1\" class=\"dataframe\">\n  <thead>\n    <tr style=\"text-align: right;\">\n      <th></th>\n      <th>age</th>\n      <th>housing</th>\n    </tr>\n  </thead>\n  <tbody>\n    <tr>\n      <th>19990</th>\n      <td>0.197531</td>\n      <td>2</td>\n    </tr>\n    <tr>\n      <th>19991</th>\n      <td>0.296296</td>\n      <td>2</td>\n    </tr>\n    <tr>\n      <th>19992</th>\n      <td>0.456790</td>\n      <td>0</td>\n    </tr>\n    <tr>\n      <th>19993</th>\n      <td>0.333333</td>\n      <td>2</td>\n    </tr>\n    <tr>\n      <th>19994</th>\n      <td>0.518519</td>\n      <td>0</td>\n    </tr>\n    <tr>\n      <th>19995</th>\n      <td>0.086420</td>\n      <td>0</td>\n    </tr>\n    <tr>\n      <th>19996</th>\n      <td>0.308642</td>\n      <td>2</td>\n    </tr>\n    <tr>\n      <th>19997</th>\n      <td>0.172840</td>\n      <td>0</td>\n    </tr>\n    <tr>\n      <th>19998</th>\n      <td>0.098765</td>\n      <td>2</td>\n    </tr>\n    <tr>\n      <th>19999</th>\n      <td>0.197531</td>\n      <td>0</td>\n    </tr>\n  </tbody>\n</table>\n</div>"
      ],
      "text/plain": [
       "            age  housing\n19990  0.197531        2\n19991  0.296296        2\n19992  0.456790        0\n19993  0.333333        2\n19994  0.518519        0\n19995  0.086420        0\n19996  0.308642        2\n19997  0.172840        0\n19998  0.098765        2\n19999  0.197531        0"
      ]
     },
     "execution_count": 30,
     "metadata": {},
     "output_type": "execute_result"
    }
   ],
   "source": [
    "X.tail(10)"
   ]
  },
  {
   "cell_type": "markdown",
   "metadata": {},
   "source": [
    "これで、数値データに置き換えられました。\n"
   ]
  },
  {
   "cell_type": "markdown",
   "metadata": {},
   "source": [
    "最後に、それぞれの特徴量の数値の変動量に差による影響力の差を排除するため、正規化を行います。"
   ]
  },
  {
   "cell_type": "code",
   "execution_count": 17,
   "metadata": {
    "trusted": true
   },
   "outputs": [],
   "source": [
    "mm_scaler = MinMaxScaler()"
   ]
  },
  {
   "cell_type": "code",
   "execution_count": 18,
   "metadata": {
    "trusted": true
   },
   "outputs": [],
   "source": [
    "X.age = DataFrame(mm_scaler.fit_transform(DataFrame(X.age.copy())))\n",
    "X.housing = DataFrame(mm_scaler.fit_transform(DataFrame(X.housing.copy())))"
   ]
  },
  {
   "cell_type": "code",
   "execution_count": 19,
   "metadata": {
    "trusted": true
   },
   "outputs": [
    {
     "data": {
      "text/html": [
       "<div>\n<table border=\"1\" class=\"dataframe\">\n  <thead>\n    <tr style=\"text-align: right;\">\n      <th></th>\n      <th>age</th>\n      <th>housing</th>\n    </tr>\n  </thead>\n  <tbody>\n    <tr>\n      <th>19990</th>\n      <td>0.197531</td>\n      <td>1.0</td>\n    </tr>\n    <tr>\n      <th>19991</th>\n      <td>0.296296</td>\n      <td>1.0</td>\n    </tr>\n    <tr>\n      <th>19992</th>\n      <td>0.456790</td>\n      <td>0.0</td>\n    </tr>\n    <tr>\n      <th>19993</th>\n      <td>0.333333</td>\n      <td>1.0</td>\n    </tr>\n    <tr>\n      <th>19994</th>\n      <td>0.518519</td>\n      <td>0.0</td>\n    </tr>\n    <tr>\n      <th>19995</th>\n      <td>0.086420</td>\n      <td>0.0</td>\n    </tr>\n    <tr>\n      <th>19996</th>\n      <td>0.308642</td>\n      <td>1.0</td>\n    </tr>\n    <tr>\n      <th>19997</th>\n      <td>0.172840</td>\n      <td>0.0</td>\n    </tr>\n    <tr>\n      <th>19998</th>\n      <td>0.098765</td>\n      <td>1.0</td>\n    </tr>\n    <tr>\n      <th>19999</th>\n      <td>0.197531</td>\n      <td>0.0</td>\n    </tr>\n  </tbody>\n</table>\n</div>"
      ],
      "text/plain": [
       "            age  housing\n19990  0.197531      1.0\n19991  0.296296      1.0\n19992  0.456790      0.0\n19993  0.333333      1.0\n19994  0.518519      0.0\n19995  0.086420      0.0\n19996  0.308642      1.0\n19997  0.172840      0.0\n19998  0.098765      1.0\n19999  0.197531      0.0"
      ]
     },
     "execution_count": 19,
     "metadata": {},
     "output_type": "execute_result"
    }
   ],
   "source": [
    "X.tail(10)"
   ]
  },
  {
   "cell_type": "markdown",
   "metadata": {},
   "source": [
    "これで、正規化が出来ました。"
   ]
  },
  {
   "cell_type": "markdown",
   "metadata": {},
   "source": [
    "### Step 4　識別器の実装\nロジスティック回帰の例を参考に、SVM、K-近傍法、決定木、ランダムフォレストを実装しましょう。"
   ]
  },
  {
   "cell_type": "markdown",
   "metadata": {},
   "source": [
    "#### ロジスティック回帰\nロジスティック回帰の例を示します。実装にはscikit-learn(http://scikit-learn.org/stable/) の関数を使用します。"
   ]
  },
  {
   "cell_type": "code",
   "execution_count": 20,
   "metadata": {
    "trusted": true
   },
   "outputs": [],
   "source": [
    " X_train, X_test, y_train, y_test = train_test_split(X, y, test_size=0.1) # 訓練データとテストデータに分割"
   ]
  },
  {
   "cell_type": "code",
   "execution_count": 40,
   "metadata": {
    "trusted": true
   },
   "outputs": [
    {
     "name": "stdout",
     "output_type": "stream",
     "text": [
      "accuracy:0.653\n"
     ]
    }
   ],
   "source": [
    "logistic_regression = LogisticRegression() # ロジスティック回帰モデルの作成\n",
    "logistic_regression.fit(X_train, y_train) # 訓練データを使って学習\n",
    "y_pred = logistic_regression.predict(X_test) # 予測値の取得\n",
    "\n",
    "print('accuracy:{}'.format(accuracy_score(y_pred=y_pred, y_true=y_test))) # 精度の計算"
   ]
  },
  {
   "cell_type": "markdown",
   "metadata": {},
   "source": [
    "上記の LogisticRegression( ) の部分を書き換えて、SVM、K-近傍法、決定木、ランダムフォレストを実装しましょう。"
   ]
  },
  {
   "cell_type": "markdown",
   "metadata": {},
   "source": [
    "#### SVM\nここで、SVM (SVC) の実装を行ってください。特徴量も自由に選択して構いません。"
   ]
  },
  {
   "cell_type": "code",
   "execution_count": 1,
   "metadata": {
    "trusted": true
   },
   "outputs": [
    {
     "ename": "NameError",
     "evalue": "name 'SVC' is not defined",
     "traceback": [
      "\u001b[1;31m---------------------------------------------------------------------------\u001b[0m",
      "\u001b[1;31mNameError\u001b[0m                                 Traceback (most recent call last)",
      "\u001b[1;32m<ipython-input-1-f7a8658d0316>\u001b[0m in \u001b[0;36m<module>\u001b[1;34m\u001b[0m\n\u001b[1;32m----> 1\u001b[1;33m \u001b[0msvm\u001b[0m \u001b[1;33m=\u001b[0m \u001b[0mSVC\u001b[0m\u001b[1;33m(\u001b[0m\u001b[0mkernel\u001b[0m\u001b[1;33m=\u001b[0m\u001b[1;34m\"poly\"\u001b[0m\u001b[1;33m,\u001b[0m \u001b[0mdegree\u001b[0m\u001b[1;33m=\u001b[0m\u001b[1;36m3\u001b[0m\u001b[1;33m,\u001b[0m \u001b[0mcoef0\u001b[0m\u001b[1;33m=\u001b[0m\u001b[1;36m1\u001b[0m\u001b[1;33m,\u001b[0m \u001b[0mC\u001b[0m\u001b[1;33m=\u001b[0m\u001b[1;36m5\u001b[0m\u001b[1;33m)\u001b[0m\u001b[1;33m\u001b[0m\u001b[1;33m\u001b[0m\u001b[0m\n\u001b[0m\u001b[0;32m      2\u001b[0m \u001b[0msvm\u001b[0m\u001b[1;33m.\u001b[0m\u001b[0mfit\u001b[0m\u001b[1;33m(\u001b[0m\u001b[0mX_train\u001b[0m\u001b[1;33m,\u001b[0m \u001b[0my_train\u001b[0m\u001b[1;33m)\u001b[0m\u001b[1;33m\u001b[0m\u001b[1;33m\u001b[0m\u001b[0m\n\u001b[0;32m      3\u001b[0m \u001b[1;33m\u001b[0m\u001b[0m\n\u001b[0;32m      4\u001b[0m \u001b[0my_pred\u001b[0m \u001b[1;33m=\u001b[0m\u001b[0msvm\u001b[0m\u001b[1;33m.\u001b[0m\u001b[0mpredict\u001b[0m\u001b[1;33m(\u001b[0m\u001b[0mX_test\u001b[0m\u001b[1;33m)\u001b[0m\u001b[1;33m\u001b[0m\u001b[1;33m\u001b[0m\u001b[0m\n\u001b[0;32m      5\u001b[0m \u001b[1;33m\u001b[0m\u001b[0m\n",
      "\u001b[1;31mNameError\u001b[0m: name 'SVC' is not defined"
     ],
     "output_type": "error"
    }
   ],
   "source": [
    "svm = SVC(kernel=\"poly\", degree=3, coef0=1, C=5)\n",
    "svm.fit(X_train, y_train)\n",
    "\n",
    "y_pred =svm.predict(X_test)\n",
    "\n",
    "print('accuracy:{}'.format(accuracy_score(y_pred=y_pred, y_true=y_test))) # 精度の計算"
   ]
  },
  {
   "cell_type": "markdown",
   "metadata": {},
   "source": [
    "#### K-近傍法\n",
    "\n",
    "ここで、K-近傍法 (KNeighborsClassifier) の実装を行ってください。特徴量も自由に選択して構いません。"
   ]
  },
  {
   "cell_type": "code",
   "execution_count": 23,
   "metadata": {
    "trusted": true
   },
   "outputs": [
    {
     "ename": "SyntaxError",
     "evalue": "invalid syntax (<ipython-input-23-b7f1e7a76ae0>, line 1)",
     "traceback": [
      "\u001b[0;36m  File \u001b[0;32m\"<ipython-input-23-b7f1e7a76ae0>\"\u001b[0;36m, line \u001b[0;32m1\u001b[0m\n\u001b[0;31m    knn =\u001b[0m\n\u001b[0m         ^\u001b[0m\n\u001b[0;31mSyntaxError\u001b[0m\u001b[0;31m:\u001b[0m invalid syntax\n"
     ],
     "output_type": "error"
    }
   ],
   "source": [
    "knn =\n",
    "\n",
    "y_pred =\n",
    "\n",
    "print('accuracy:{}'.format(accuracy_score(y_pred=y_pred, y_true=y_test))) # 精度の計算"
   ]
  },
  {
   "cell_type": "markdown",
   "metadata": {},
   "source": [
    "#### 決定木\n\nここで、決定木 (DecisionTreeClassifier) の実装を行ってください。特徴量も自由に選択して構いません。"
   ]
  },
  {
   "cell_type": "code",
   "execution_count": null,
   "metadata": {
    "trusted": false
   },
   "outputs": [],
   "source": [
    "decition_tree = \n",
    "\n",
    "y_pred = \n",
    "\n",
    "print('accuracy:{}'.format(accuracy_score(y_pred=y_pred, y_true=y_test))) # 精度の計算"
   ]
  },
  {
   "cell_type": "markdown",
   "metadata": {},
   "source": [
    "#### ランダムフォレスト\n\nここで、ランダムフォレスト (RandomForestClassifier) の実装を行ってください。特徴量も自由に選択して構いません。"
   ]
  },
  {
   "cell_type": "code",
   "execution_count": null,
   "metadata": {
    "trusted": false
   },
   "outputs": [],
   "source": [
    "random_forest = \n",
    "\n",
    "y_pred = \n",
    "\n",
    "print('accuracy:{}'.format(accuracy_score(y_pred=y_pred, y_true=y_test))) # 精度の計算"
   ]
  },
  {
   "cell_type": "markdown",
   "metadata": {},
   "source": [
    "# 課題２: モデルの改善を行おう！\n課題1で作成した各モデルについて、どうすればさらに良い精度を出すことができるのか、パラメータの調整や特徴量の選定などを行いましょう。\n最後に、この課題において最善と考える特徴量とモデルを述べ、その理由も示してください。"
   ]
  },
  {
   "cell_type": "code",
   "execution_count": 24,
   "metadata": {
    "trusted": true
   },
   "outputs": [],
   "source": [
    "from IPython.display import display\n",
    "import pandas as pd\n",
    "from pandas import DataFrame, Series\n",
    "import pickle\n",
    "from sklearn.preprocessing import LabelEncoder\n",
    "from sklearn.preprocessing import MinMaxScaler\n",
    "from sklearn.model_selection import train_test_split\n",
    "from sklearn.linear_model import LogisticRegression\n",
    "from sklearn.svm import SVC\n",
    "from sklearn.neighbors import KNeighborsClassifier\n",
    "from sklearn.tree import DecisionTreeClassifier\n",
    "from sklearn.ensemble import RandomForestClassifier\n",
    "from sklearn.metrics import accuracy_score\n",
    "import warnings\n",
    "warnings.filterwarnings('ignore')"
   ]
  },
  {
   "cell_type": "markdown",
   "metadata": {},
   "source": [
    "まず、選定した特徴量を用いて、課題１で行ったStep1〜Step3 を行いましょう。ただし、Step 2〜Step 3の処理は、preprocessingという関数で定義してください。ここで定義した関数を用いて評価を行います。\n引数には、読み込んだデータを指定してください。返り値には、前処理を行った後の選定した特徴量 ( X )とmarital ( y )を指定してください。"
   ]
  },
  {
   "cell_type": "code",
   "execution_count": 25,
   "metadata": {
    "scrolled": true,
    "trusted": true
   },
   "outputs": [],
   "source": [
    "### Step 1　　データの読み込み\n",
    "df_train_data = pd.read_csv('train.csv')\n",
    "\n",
    "\n",
    "### 課題１で行ったStep 2〜Step 3を関数として定義してください。\n",
    "def preprocessing(df_train_data):\n",
    "    ### Step 2　　使用する列の抽出\n",
    "    y_ = df_train_data.marital# ラベルデータ\n",
    "    X_ = df_train_data[['age', 'housing']]\n",
    "    \n",
    "    ### Step 3　　特徴量データの前処理\n",
    "    # 欠損値を含むデータの削除\n",
    "    df_temp = pd.concat([y_, X_], axis=1).dropna(how='any')\n",
    "    df_temp.index = range(len(df_temp)) \n",
    "    y = df_temp.marital\n",
    "    X = df_temp[['age', 'housing']]\n",
    "    \n",
    "    # 文字列を数値データへ変換\n",
    "    housing_le = LabelEncoder()\n",
    "    X.housing = housing_le.fit_transform(X.housing)\n",
    "    \n",
    "    # 数値データの正規化\n",
    "    mm_scaler = MinMaxScaler()\n",
    "    X.age = DataFrame(mm_scaler.fit_transform(DataFrame(X.age.copy())))\n",
    "    X.housing = DataFrame(mm_scaler.fit_transform(DataFrame(X.housing.copy())))\n",
    "    \n",
    "    return X, y"
   ]
  },
  {
   "cell_type": "markdown",
   "metadata": {},
   "source": [
    "上記で定義した関数を実行します。"
   ]
  },
  {
   "cell_type": "code",
   "execution_count": 26,
   "metadata": {
    "trusted": true
   },
   "outputs": [],
   "source": [
    "X, y = preprocessing(df_train_data)"
   ]
  },
  {
   "cell_type": "markdown",
   "metadata": {},
   "source": [
    "次に、この課題における最善なモデルを構築しましょう。課題１で使用したモデル以外を使用しても構いません。\n下記は、ロジスティック回帰の場合の例です。"
   ]
  },
  {
   "cell_type": "code",
   "execution_count": 27,
   "metadata": {
    "trusted": true
   },
   "outputs": [],
   "source": [
    "X_train, X_test, y_train, y_test = train_test_split(X, y, test_size=0.1) # 訓練データとテストデータに分割"
   ]
  },
  {
   "cell_type": "code",
   "execution_count": 28,
   "metadata": {
    "trusted": true
   },
   "outputs": [
    {
     "name": "stdout",
     "output_type": "stream",
     "text": [
      "accuracy:0.653\n"
     ]
    }
   ],
   "source": [
    "logistic_regression = LogisticRegression() # ロジスティック回帰モデルの作成\n",
    "logistic_regression.fit(X_train, y_train) # 訓練データを使って学習\n",
    "y_pred = logistic_regression.predict(X_test) # 予測値の取得\n",
    "print('accuracy:{}'.format(accuracy_score(y_pred=y_pred, y_true=y_test))) # 精度の計算"
   ]
  },
  {
   "cell_type": "markdown",
   "metadata": {},
   "source": [
    "### 考察１\nこの課題において最善と考える特徴量を述べ、その理由も示してください。"
   ]
  },
  {
   "cell_type": "markdown",
   "metadata": {},
   "source": [
    "（ここに記入してください）"
   ]
  },
  {
   "cell_type": "markdown",
   "metadata": {},
   "source": [
    "### 考察２\nこの課題において最善と考えるモデルを述べ、その理由も示してください。"
   ]
  },
  {
   "cell_type": "markdown",
   "metadata": {},
   "source": [
    "（ここに記入してください）"
   ]
  },
  {
   "cell_type": "markdown",
   "metadata": {},
   "source": [
    "最後に、以下の best_model に構築したモデルを記入してください。この best_model を使用して精度評価を行います。"
   ]
  },
  {
   "cell_type": "code",
   "execution_count": 24,
   "metadata": {
    "trusted": false
   },
   "outputs": [],
   "source": [
    "best_model = logistic_regression     # この例では、ロジスティック回帰を選択したので、logistic_regression を記入しています。\n",
    "pickle.dump(best_model, open('best_model.pkl','wb'))"
   ]
  },
  {
   "cell_type": "markdown",
   "metadata": {},
   "source": [
    "### --------評価用--------\nここから下は評価用となります。上の欄にモデルを記入した後は、配布資料に書いてある手順に沿ってファイルを提出してください。"
   ]
  },
  {
   "cell_type": "code",
   "execution_count": null,
   "metadata": {
    "trusted": false
   },
   "outputs": [],
   "source": [
    "# df_test_data = pd.read_csv('bank_test.csv')\n",
    "# preprocessing()\n",
    "# X_test = X\n",
    "# y_test = y"
   ]
  },
  {
   "cell_type": "code",
   "execution_count": null,
   "metadata": {
    "trusted": false
   },
   "outputs": [],
   "source": [
    "# best2_model = pickle.load(open('best_model.pkl', 'rb'))\n",
    "# y_pred =best2_model.predict(X_test)\n",
    "# print('accuracy:{}'.format(accuracy_score(y_pred=y_pred, y_true=y_test)))"
   ]
  },
  {
   "cell_type": "code",
   "execution_count": null,
   "metadata": {
    "trusted": false
   },
   "outputs": [],
   "source": [
    ""
   ]
  }
 ],
 "metadata": {
  "kernelspec": {
   "name": "python3",
   "display_name": "Python 3",
   "language": "python"
  },
  "language_info": {
   "mimetype": "text/x-python",
   "nbconvert_exporter": "python",
   "name": "python",
   "file_extension": ".py",
   "version": "3.5.4",
   "pygments_lexer": "ipython3",
   "codemirror_mode": {
    "version": 3,
    "name": "ipython"
   }
  }
 },
 "nbformat": 4,
 "nbformat_minor": 2
}
